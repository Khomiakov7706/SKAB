{
  "nbformat": 4,
  "nbformat_minor": 0,
  "metadata": {
    "colab": {
      "name": "rougier_matplotlib.ipynb",
      "provenance": [],
      "authorship_tag": "ABX9TyMFoVEIDCmHaEvx76iuBV8w",
      "include_colab_link": true
    },
    "kernelspec": {
      "name": "python3",
      "display_name": "Python 3"
    },
    "language_info": {
      "name": "python"
    }
  },
  "cells": [
    {
      "cell_type": "markdown",
      "metadata": {
        "id": "view-in-github",
        "colab_type": "text"
      },
      "source": [
        "<a href=\"https://colab.research.google.com/github/Khomiakov7706/SKAB/blob/master/rougier_matplotlib.ipynb\" target=\"_parent\"><img src=\"https://colab.research.google.com/assets/colab-badge.svg\" alt=\"Open In Colab\"/></a>"
      ]
    },
    {
      "cell_type": "code",
      "execution_count": 3,
      "metadata": {
        "colab": {
          "base_uri": "https://localhost:8080/",
          "height": 153
        },
        "id": "yETOehXpF4vF",
        "outputId": "379ab513-7f72-4e82-9259-16ceccba1f49"
      },
      "outputs": [
        {
          "output_type": "display_data",
          "data": {
            "text/plain": [
              "<Figure size 360x144 with 1 Axes>"
            ],
            "image/png": "[encoded data removed]"
          },
          "metadata": {
            "needs_background": "light"
          }
        }
      ],
      "source": [
        "import numpy as np\n",
        "import matplotlib.pyplot as plt\n",
        "\n",
        "\n",
        "def annotate(ax, x, y, text, fc=\"#ff7777\", y0=0):\n",
        "    y = y - 0.5\n",
        "    ax.annotate(\n",
        "        \" \" + text + \" \",\n",
        "        xy=(x, y),\n",
        "        xycoords=\"data\",\n",
        "        xytext=(0, 12),\n",
        "        textcoords=\"offset points\",\n",
        "        color=\"white\",\n",
        "        size=\"x-small\",\n",
        "        va=\"center\",\n",
        "        ha=\"center\",\n",
        "        weight=\"bold\",\n",
        "        bbox=dict(boxstyle=\"round\", fc=fc, ec=\"none\"),\n",
        "        arrowprops=dict(\n",
        "            arrowstyle=\"wedge,tail_width=1.\", fc=fc, ec=\"none\", patchA=None\n",
        "        ),\n",
        "    )\n",
        "    plt.plot([x, x], [y, y0], color=\"black\", linestyle=\":\", linewidth=0.75)\n",
        "\n",
        "\n",
        "fig = plt.figure(figsize=(5, 2))\n",
        "ax = fig.add_subplot(111, xlim=(2002.5, 2021.5), ylim=(0, 6.5), yticks=([]))\n",
        "ax.tick_params(\"x\", labelsize=\"x-small\", which=\"major\")\n",
        "plt.plot([2002.5, 2021.5], [0, 0], color=\"black\", linewidth=1.0, clip_on=False)\n",
        "X = np.arange(2003, 2022)\n",
        "Y = np.zeros(len(X))\n",
        "plt.scatter(\n",
        "    X,\n",
        "    Y,\n",
        "    s=50,\n",
        "    linewidth=1.0,\n",
        "    zorder=10,\n",
        "    clip_on=False,\n",
        "    edgecolor=\"black\",\n",
        "    facecolor=\"white\",\n",
        ")\n",
        "\n",
        "annotate(ax, 2021, 4, \"3.4\")\n",
        "annotate(ax, 2020, 3, \"3.3\")\n",
        "annotate(ax, 2019, 4, \"3.2\")\n",
        "annotate(ax, 2019, 2, \"3.1\")\n",
        "annotate(ax, 2018, 3, \"3.0\", y0=1.5)\n",
        "annotate(ax, 2018, 1, \"2.2\", fc=\"#777777\")\n",
        "annotate(ax, 2017, 4, \"2.1\", y0=2.5)\n",
        "annotate(ax, 2017, 2, \"2.0\")\n",
        "annotate(ax, 2015, 2, \"1.5\")\n",
        "annotate(ax, 2014, 1, \"1.4\")\n",
        "annotate(ax, 2013, 2, \"1.3\")\n",
        "annotate(ax, 2012, 1, \"1.2\")\n",
        "annotate(ax, 2011, 3, \"1.1\", y0=2.5)\n",
        "annotate(ax, 2011, 2, \"1.0\")\n",
        "annotate(ax, 2009, 1, \"0.99\")\n",
        "annotate(ax, 2003, 1, \"0.10\")\n",
        "\n",
        "x0, x1 = 2002.5, 2011.9\n",
        "ax.plot([x0, x1], [5, 5], color=\"black\", linewidth=1, marker=\"|\", clip_on=False)\n",
        "ax.text((x0 + x1) / 2, 5.1, \"J.D. Hunter\", ha=\"center\", va=\"bottom\", size=\"x-small\")\n",
        "\n",
        "x0, x1 = 2012.1, 2017.9\n",
        "ax.plot([x0, x1], [5, 5], color=\"black\", linewidth=1, marker=\"|\", clip_on=False)\n",
        "ax.text((x0 + x1) / 2, 5.1, \"M. Droettboom\", ha=\"center\", va=\"bottom\", size=\"x-small\")\n",
        "\n",
        "x0, x1 = 2014.1, 2021.5\n",
        "ax.plot([x0, x1 + 1], [6, 6], color=\"black\", linewidth=1, marker=\"|\")\n",
        "ax.text((x0 + x1) / 2, 6.1, \"T. Caswell\", ha=\"center\", va=\"bottom\", size=\"x-small\")\n",
        "\n",
        "ax.spines[\"right\"].set_visible(False)\n",
        "ax.spines[\"left\"].set_visible(False)\n",
        "ax.spines[\"top\"].set_visible(False)\n",
        "ax.spines[\"bottom\"].set_visible(False)\n",
        "ax.set_xticks(np.arange(2003, 2022, 2))\n",
        "\n",
        "plt.tight_layout()\n",
        "plt.savefig(\"matplotlib-timeline.pdf\")\n",
        "plt.savefig(\"matplotlib-timeline.png\", dpi=300)\n",
        "plt.show()"
      ]
    },
    {
      "cell_type": "code",
      "source": [
        ""
      ],
      "metadata": {
        "id": "CEjDSr2aF5k4"
      },
      "execution_count": null,
      "outputs": []
    }
  ]
}
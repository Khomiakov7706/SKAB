{
  "nbformat": 4,
  "nbformat_minor": 0,
  "metadata": {
    "colab": {
      "name": "draft_USD_RUB_MOEX_parser.ipynb",
      "provenance": [],
      "authorship_tag": "ABX9TyPtQJZyAksoRfqqPYzMttxl",
      "include_colab_link": true
    },
    "kernelspec": {
      "name": "python3",
      "display_name": "Python 3"
    },
    "language_info": {
      "name": "python"
    }
  },
  "cells": [
    {
      "cell_type": "markdown",
      "metadata": {
        "id": "view-in-github",
        "colab_type": "text"
      },
      "source": [
        "<a href=\"https://colab.research.google.com/github/Khomiakov7706/SKAB/blob/master/draft_USD_RUB_MOEX_parser.ipynb\" target=\"_parent\"><img src=\"https://colab.research.google.com/assets/colab-badge.svg\" alt=\"Open In Colab\"/></a>"
      ]
    },
    {
      "cell_type": "code",
      "execution_count": 257,
      "metadata": {
        "colab": {
          "base_uri": "https://localhost:8080/"
        },
        "id": "EaC7fU63N82U",
        "outputId": "6e6d7ae8-44b1-45de-a3c0-bbb95c68f9f3"
      },
      "outputs": [
        {
          "output_type": "stream",
          "name": "stdout",
          "text": [
            "Requirement already satisfied: requests in /usr/local/lib/python3.7/dist-packages (2.23.0)\n",
            "Requirement already satisfied: bs4 in /usr/local/lib/python3.7/dist-packages (0.0.1)\n",
            "Requirement already satisfied: certifi>=2017.4.17 in /usr/local/lib/python3.7/dist-packages (from requests) (2021.10.8)\n",
            "Requirement already satisfied: chardet<4,>=3.0.2 in /usr/local/lib/python3.7/dist-packages (from requests) (3.0.4)\n",
            "Requirement already satisfied: idna<3,>=2.5 in /usr/local/lib/python3.7/dist-packages (from requests) (2.10)\n",
            "Requirement already satisfied: urllib3!=1.25.0,!=1.25.1,<1.26,>=1.21.1 in /usr/local/lib/python3.7/dist-packages (from requests) (1.24.3)\n",
            "Requirement already satisfied: beautifulsoup4 in /usr/local/lib/python3.7/dist-packages (from bs4) (4.6.3)\n"
          ]
        }
      ],
      "source": [
        "pip install requests bs4"
      ]
    },
    {
      "cell_type": "code",
      "source": [
        "import requests # Модуль для обработки URL\n",
        "from bs4 import BeautifulSoup # Модуль для работы с HTML\n",
        "import time # Модуль для остановки программы\n",
        "import smtplib # Модуль для работы с почтой\n",
        "\n",
        "# Основной класс\n",
        "class Currency:\n",
        "\t# Ссылка на нужную страницу\n",
        "\tDOLLAR_RUB = 'https://www.google.com/search?sxsrf=ALeKk01NWm6viYijAo3HXYOEQUyDEDtFEw%3A1584716087546&source=hp&ei=N9l0XtDXHs716QTcuaXoAg&q=%D0%B4%D0%BE%D0%BB%D0%BB%D0%B0%D1%80+%D0%BA+%D1%80%D1%83%D0%B1%D0%BB%D1%8E&oq=%D0%B4%D0%BE%D0%BB%D0%BB%D0%B0%D1%80+&gs_l=psy-ab.3.0.35i39i70i258j0i131l4j0j0i131l4.3044.4178..5294...1.0..0.83.544.7......0....1..gws-wiz.......35i39.5QL6Ev1Kfk4'\n",
        "\t# Заголовки для передачи вместе с URL\n",
        "\theaders = {'User-Agent': 'Mozilla/5.0 (Macintosh; Intel Mac OS X 10_15_3) AppleWebKit/537.36 (KHTML, like Gecko) Chrome/80.0.3987.149 Safari/537.36'}\n",
        "\n",
        "\tcurrent_converted_price = 0\n",
        "\tdifference = 5 # Разница после которой будет отправлено сообщение на почту\n",
        "\n",
        "\tdef __init__(self):\n",
        "\t\t# Установка курса валюты при создании объекта\n",
        "\t\tself.current_converted_price = float(self.get_currency_price().replace(\",\", \".\"))\n",
        "\n",
        "\t# Метод для получения курса валюты\n",
        "\tdef get_currency_price(self):\n",
        "\t\t# Парсим всю страницу\n",
        "\t\tfull_page = requests.get(self.DOLLAR_RUB, headers=self.headers)\n",
        "\n",
        "\t\t# Разбираем через BeautifulSoup\n",
        "\t\tsoup = BeautifulSoup(full_page.content, 'html.parser')\n",
        "\n",
        "\t\t# Получаем нужное для нас значение и возвращаем его\n",
        "\t\tconvert = soup.findAll(\"span\", {\"class\": \"DFlfde\", \"class\": \"SwHCTb\", \"data-precision\": 2})\n",
        "\t\treturn convert[0].text\n",
        "\n",
        "\t# Проверка изменения валюты\n",
        "\tdef check_currency(self):\n",
        "\t\tcurrency = float(self.get_currency_price().replace(\",\", \".\"))\n",
        "\t\tif currency >= self.current_converted_price + self.difference:\n",
        "\t\t\tprint(\"Курс сильно вырос, может пора что-то делать?\")\n",
        "\t\t\tself.send_mail()\n",
        "\t\telif currency <= self.current_converted_price - self.difference:\n",
        "\t\t\tprint(\"Курс сильно упал, может пора что-то делать?\")\n",
        "\t\t\tself.send_mail()\n",
        "\n",
        "\t\tprint(\"Сейчас курс: 1 доллар = \" + str(currency))\n",
        "\t\ttime.sleep(10) # Засыпание программы на 3 секунды\n",
        "\t\tself.check_currency()\n",
        "\n",
        "\t# Отправка почты через SMTP\n",
        "\tdef send_mail(self):\n",
        "\t\tserver = smtplib.SMTP('smtp.gmail.com', 587)\n",
        "\t\tserver.ehlo()\n",
        "\t\tserver.starttls()\n",
        "\t\tserver.ehlo()\n",
        "\n",
        "\t\tserver.login('ВАША ПОЧТА', 'ПАРОЛЬ')\n",
        "\n",
        "\t\tsubject = 'Currency mail'\n",
        "\t\tbody = 'Currency has been changed!' \n",
        "\t\tmessage = f'Subject: {subject}\\n{body}'\n",
        "\n",
        "\t\tserver.sendmail(\n",
        "\t\t\t'От кого',\n",
        "\t\t\t'Кому',\n",
        "\t\t\tmessage\n",
        "\t\t)\n",
        "\t\tserver.quit()\n",
        "\n",
        "# Создание объекта и вызов метода\n",
        "#currency = Currency()\n",
        "#currency.check_currency()"
      ],
      "metadata": {
        "id": "MZMSX38cOCkh"
      },
      "execution_count": 258,
      "outputs": []
    },
    {
      "cell_type": "code",
      "source": [
        "import requests # Модуль для обработки URL\n",
        "from bs4 import BeautifulSoup # Модуль для работы с HTML\n",
        "import time # Модуль для остановки программы\n",
        "import smtplib # Модуль для работы с почтой\n",
        "\n",
        "# Основной класс\n",
        "class Currency:\n",
        "\t# Ссылка на нужную страницу\n",
        "\tDOLLAR_RUB = 'https://www.google.com/search?q=dollar+rub&newwindow=1&sxsrf=APq-WBui3sbSOuuyfTXw5Mjto6qk-q_kxQ%3A1649591754928&source=hp&ei=ysVSYv3sM_OJxc8Pv-i5-AU&iflsig=AHkkrS4AAAAAYlLT2q2PW2K6YiFWIVQferuDhC7m4434&ved=0ahUKEwj9-cmUuIn3AhXzRPEDHT90Dl8Q4dUDCAw&uact=5&oq=dollar+rub&gs_lcp=Cgdnd3Mtd2l6EAMyCggAEMsBEEYQggIyBQgAEMsBMgUIABDLATIFCAAQywEyBQgAEMsBMgUIABDLATIFCAAQgAQyBQgAEMsBMgUIABDLATIFCAAQgAQ6BAgjECc6DgguEIAEEMcBEKMCENQCOgUILhCABDoLCC4QgAQQxwEQ0QM6DgguEIAEEMcBENEDENQCOgQIABBDOgcILhDUAhBDOgcIIxDqAhAnOgsILhCABBDHARCjAjoICC4QgAQQ1AI6CwguEIAEEMcBEK8BOgcIABCABBAKOgcILhCABBAKOgoILhDHARDRAxBDOgQILhBDOgoILhDHARCjAhBDOgcIABDJAxBDUABYrzFgrTRoBXAAeACAAXmIAeEIkgEEMTQuMZgBAKABAbABCg&sclient=gws-wiz'\n",
        "\t# Заголовки для передачи вместе с URL\n",
        "\theaders = {'User-Agent': 'Mozilla/5.0 (Macintosh; Intel Mac OS X 10_15_3) AppleWebKit/537.36 (KHTML, like Gecko) Chrome/80.0.3987.149 Safari/537.36'}\n",
        "\n",
        "\tcurrent_converted_price = 0\n",
        "\tdifference = 5 # Разница после которой будет отправлено сообщение на почту\n",
        "\n",
        "\tdef __init__(self):\n",
        "\t\t# Установка курса валюты при создании объекта\n",
        "\t\tself.current_converted_price = float(self.get_currency_price().replace(\",\", \".\"))\n",
        "\n",
        "\t# Метод для получения курса валюты\n",
        "\tdef get_currency_price(self):\n",
        "\t\t# Парсим всю страницу\n",
        "\t\tfull_page = requests.get(self.DOLLAR_RUB, headers=self.headers)\n",
        "\n",
        "\t\t# Разбираем через BeautifulSoup\n",
        "\t\tsoup = BeautifulSoup(full_page.content, 'html.parser')\n",
        "\n",
        "\t\t# Получаем нужное для нас значение и возвращаем его\n",
        "\t\tconvert = soup.findAll(\"span\", {\"class\": \"DFlfde\", \"class\": \"SwHCTb\", \"data-precision\": 2})\n",
        "\t\treturn convert[0].text\n",
        "\n",
        "\t# Проверка изменения валюты\n",
        "\tdef check_currency(self):\n",
        "\t\tcurrency = float(self.get_currency_price().replace(\",\", \".\"))\n",
        "\t\tif currency >= self.current_converted_price + self.difference:\n",
        "\t\t\tprint(\"Курс сильно вырос, может пора что-то делать?\")\n",
        "\t\t\tself.send_mail()\n",
        "\t\telif currency <= self.current_converted_price - self.difference:\n",
        "\t\t\tprint(\"Курс сильно упал, может пора что-то делать?\")\n",
        "\t\t\tself.send_mail()\n",
        "\n",
        "\t\tprint(\"Сейчас курс: 1 доллар = \" + str(currency))\n",
        "\t\ttime.sleep(10) # Засыпание программы на 10 секунд\n",
        "\t\tself.check_currency()\n",
        "\n",
        "\t# Отправка почты через SMTP\n",
        "\tdef send_mail(self):\n",
        "\t\tserver = smtplib.SMTP('smtp.gmail.com', 587)\n",
        "\t\tserver.ehlo()\n",
        "\t\tserver.starttls()\n",
        "\t\tserver.ehlo()\n",
        "\n",
        "\t\tserver.login('ВАША ПОЧТА', 'ПАРОЛЬ')\n",
        "\n",
        "\t\tsubject = 'Currency mail'\n",
        "\t\tbody = 'Currency has been changed!' \n",
        "\t\tmessage = f'Subject: {subject}\\n{body}'\n",
        "\n",
        "\t\tserver.sendmail(\n",
        "\t\t\t'От кого',\n",
        "\t\t\t'Кому',\n",
        "\t\t\tmessage\n",
        "\t\t)\n",
        "\t\tserver.quit()\n",
        "\n",
        "# Создание объекта и вызов метода\n"
      ],
      "metadata": {
        "id": "TM2OzCH_PmhB"
      },
      "execution_count": 259,
      "outputs": []
    },
    {
      "cell_type": "code",
      "source": [
        "#currency = Currency()\n",
        "#currency.check_currency()"
      ],
      "metadata": {
        "id": "nltS9GFtPpJx"
      },
      "execution_count": 260,
      "outputs": []
    },
    {
      "cell_type": "markdown",
      "source": [
        "# Из исходного кода [страницы Finam](https://www.finam.ru/profile/mosbirzha-valyutnyj-rynok/usdrubtom-usd-rub/export/?market=45&em=182400&token=03AGdBq27DuogTQoyynyc27rTTQClZsi9-EBxeMbo3fau_5sdu0cjMGP0bRqO82XHU_t7wTiE4TbbasAVSjnKN7Y2DqtZDZuM4HigoH2TozLqR_gCzs8rh8o4AF20mto16Rv0Ld6UBAumszFZkbYBqc1ofD_onpudH9msQrXyqM72Dei5EMt7jUrLBsQlboMPK0a94oC5TFjPQh-qjfwb1JY7s_esOV6GGYQPO7_rcOMy8X9k8AU1uw6FSOvWYzFARaJ6JnN4RVlQiSpnWSCeSSoGin00riRXMFZAU67k09p4rJdnQBsrBglxo941peEj9sw5Wf9iOgX4GhEtccOddp3nmiQbTsbVMABbfB0_-hccRHSeIn8p7bx6tg2AW_mpWiSt4WjOdFhImAGMMKF05cdSUwHtrcsJIWgGu4Rj6Uwl8xwo8AWHHOAMyKU2JHN-LyWiCoRSg9mZgPDQw6CrwEnxDJDr8LR3FAg&code=USD000UTSTOM&apply=0&df=8&mf=3&yf=2022&from=08.04.2022&dt=10&mt=3&yt=2022&to=10.04.2022&p=6&f=USD000UTSTOM_220408_220410&e=.csv&cn=USD000UTSTOM&dtf=1&tmf=1&MSOR=1&mstime=on&mstimever=1&sep=1&sep2=1&datf=1&at=1) с курсом $ USDRUB_TOM \n",
        "\n",
        "\n",
        "Finam.IssuerProfile.Main.issue = {\n",
        "                                    \"quote\": {\n",
        "                                        \"id\": 182400,\n",
        "                                        \"code\": \"USD000UTSTOM\",\n",
        "                                        \"fullUrl\": \"mosbirzha-valyutnyj-rynok/usdrubtom-usd-rub\",\n",
        "\n",
        "                                        \"title\": \"USDRUB_TOM\",\n",
        "                                        \"decp\": 4,\n",
        "                                        \"testDriveEnabled\": false,\n",
        "                                        \"market\": {\n",
        "                                            \"id\": 45,\n",
        "                                            \"title\": \"МосБиржа валютный рынок\",\n",
        "\n",
        "                                            \"volumeEnabled\": true\n",
        "                                        },\n",
        "                                        \"info\": {\n",
        "                                            \"decp\": 4,\n",
        "                                            \"last\": 76.08,\n",
        "                                            \"pchange\": 0.43564,\n",
        "                                            \"change\": 0.33,\n",
        "                                            \"bid\": null,\n",
        "                                            \"ask\": null,\n",
        "                                            \"open\": 75.75,\n",
        "                                            \"high\": 76.26,\n",
        "                                            \"low\": 71,\n",
        "                                            \"close\": 75.75,\n",
        "                                            \"volume\": 1344670000,\n",
        "                                            \"date\": \"08.04.2022 18:59:52\",\n",
        "                                            \"weekMin\": 71,\n",
        "                                            \"weekMax\": 85.315,\n",
        "                                            \"monthMin\": 71,\n",
        "                                            \"monthMax\": 121.5275,\n",
        "                                            \"yearMin\": 69.21,\n",
        "                                            \"yearMax\": 121.5275,\n",
        "                                            \"currency\": null,\n",
        "                                            \"volumeCode\": null\n",
        "                                        },"
      ],
      "metadata": {
        "id": "0YMo92Ywbo0W"
      }
    },
    {
      "cell_type": "markdown",
      "source": [
        "Для USDRUB_TOM:\n",
        "\n",
        "market = 45, \n",
        "\n",
        "em = 182400, \n",
        "\n",
        "code = USDRUB_TOM"
      ],
      "metadata": {
        "id": "WGPy3To5cPQc"
      }
    },
    {
      "cell_type": "markdown",
      "source": [
        "# Parameters:\n",
        "\n",
        "market, em, code – об этих параметрах, упоминал ранее, при обращении к функции их значения будут приниматься из файла.\n",
        "\n",
        "df, mf, yf, from, dt, mt, yt, to – это параметры времени.\n",
        "\n",
        "p — период котировок (тики, 1 мин., 5 мин., 10 мин., 15 мин., 30 мин., 1 час, 1 день, 1 неделя, 1 месяц)\n",
        "\n",
        "e – расширение получаемого файла; возможны варианты — .txt либо .csv\n",
        "dtf — формат даты (1 — ггггммдд, 2 — ггммдд, 3 — ддммгг, 4 — дд/мм/гг, 5 — мм/дд/гг)\n",
        "\n",
        "tmf — формат времени (1 — ччммсс, 2 — ччмм, 3 — чч: мм: сс, 4 — чч: мм)\n",
        "\n",
        "MSOR — выдавать время (0 — начала свечи, 1 — окончания свечи)\n",
        "\n",
        "mstimever — выдавать время (НЕ московское — mstimever=0; московское — mstime='on', mstimever='1')\n",
        "\n",
        "sep — параметр разделитель полей (1 — запятая (,), 2 — точка (.), 3 — точка с запятой (;), 4 — табуляция (»), 5 — пробел ( ))\n",
        "\n",
        "sep2 — параметр разделитель разрядов (1 — нет, 2 — точка (.), 3 — запятая (,), 4 — пробел ( ), 5 — кавычка ('))\n",
        "\n",
        "datf — Перечень получаемых данных (#1 — TICKER, PER, DATE, TIME, OPEN, HIGH, LOW, CLOSE, VOL; #2 — TICKER, PER, DATE, TIME, OPEN, HIGH, LOW, CLOSE; #3 — TICKER, PER, DATE, TIME, CLOSE, VOL; #4 — TICKER, PER, DATE, TIME, CLOSE; #5 — DATE, TIME, OPEN, HIGH, LOW, CLOSE, VOL; #6 — DATE, TIME, LAST, VOL, ID, OPER).\n",
        "\n",
        "at — добавлять заголовок в файл (0 — нет, 1 — да)"
      ],
      "metadata": {
        "id": "1LoszuJIeuxE"
      }
    },
    {
      "cell_type": "code",
      "source": [
        "from urllib.request import urlopen\n",
        "\n",
        "\n",
        "code='USD000UTSTOM';\n",
        "e='.csv';\n",
        "market='45'\n",
        "em='182400';\n",
        "p='3';\n",
        "yf='2022';\n",
        "yt='2022';\n",
        "month_start='04';\n",
        "day_start='08';\n",
        "month_end='04';\n",
        "day_end='08';\n",
        "dtf='4';\n",
        "tmf='3';\n",
        "MSOR='1';\n",
        "mstime='on'\n",
        "mstimever='1'\n",
        "sep='1';\n",
        "sep2='2';\n",
        "datf='1';\n",
        "at='1';\n",
        "token = '03AGdBq24ovEJd8iyoRM0KqneYCBee_4L_fk3LvgobJXZRH0DU2N98U_Q-FCZ90ToKmFgwuSQ_CyIQWt4n4uy4T6LOEICjsb2x24qFOFhs6jO6NjeCgco1CBCeF43vHINO4Mk4DGY7DVMVfwT691aQYzm3Xx-S1eG0gPT0A5LFVbeFdsCaNDl73l0anIPQDojRZy5tQNj5UXZF5iRP7ySz3cK-mR5SsEX5ZFCbfgu1B1p7wDM2YkByjAVIYQX5B2lYUxGlJemOPm8mTybyYboTSnN6fV8gk2wPUMJ9JeWjf9mldjKWpy-cVEtE57_Pj4nrTNhq9cDhDwh79yZXL6rNl5gHobsbCPdDVPkKGcL-Xfr_4M0FlhkhDl9RGX4bpoPk9sdBXnNm2jhFMtlDf8s6RTj3BlifiMXUrqLOhtnoKoWsDr2jkHT_lHWYoWSrniN8ApINCYNPtvUbUDLVQEx2xczp-t0HGN6Jhg'\n",
        "\n",
        "year_start=yf[2:];\n",
        "year_end=yt[2:];\n",
        "mf=(int(month_start.lstrip('0')))-1;\n",
        "mt=(int(month_end.lstrip('0')))-1;\n",
        "df=(int(day_start.lstrip('0')))-1;\n",
        "dt=(int(day_end.lstrip('0')))-1;\n",
        "\n"
      ],
      "metadata": {
        "id": "NaTOfb-yeXjr"
      },
      "execution_count": 328,
      "outputs": []
    },
    {
      "cell_type": "code",
      "source": [
        "print(yf)\n",
        "print(mf)\n",
        "print(df)\n",
        "print(month_start)\n",
        "print(day_start)\n",
        "print(year_start)"
      ],
      "metadata": {
        "colab": {
          "base_uri": "https://localhost:8080/"
        },
        "id": "GtOUJF6I7k5b",
        "outputId": "c868dcec-6f77-4c03-a7d7-b0e84a2e1ab1"
      },
      "execution_count": 329,
      "outputs": [
        {
          "output_type": "stream",
          "name": "stdout",
          "text": [
            "2022\n",
            "3\n",
            "7\n",
            "04\n",
            "08\n",
            "22\n"
          ]
        }
      ]
    },
    {
      "cell_type": "code",
      "source": [
        "#weblink = 'https://export.finam.ru/export9.out?market='+str(market)+'&em='+str(em)+'&token='+str(token)+'&code='+str(code)+'&apply=0&df='+str(df)+'&mf='+str(mf)+'&yf='+str(yf)+'&from='+str(day_start)+'.'+str(month_start)+'.'+str(yf)+'&dt='+str(dt)+'&mt='+str(mt)+'&yt='+str(yt)+'&to='+str(day_end)+'.'+str(month_end)+'.'+str(yt)+'&p='+str(p)+'&f='+str(code)+'_'+str(year_start)+str(month_start)+str(day_start)+'_'+str(year_end)+str(month_end)+str(day_end)+'&e=.'+str(e)+'&cn='+str(code)+'&dtf='+str(dtf)+'&tmf='+str(tmf)+'&MSOR='+str(MSOR)+'&mstime='+str(mstime)+'&mstimever='+str(mstimever)+'&sep='+str(sep)+'&sep2='+str(sep2)+'&datf='+str(datf)+'&at='+str(at)\n",
        "weblink = 'https://export.finam.ru/export9.out?market='+str(market)+'&em='+str(em)+'&token=&code='+str(code)+'&apply=0&df='+str(df)+'&mf='+str(mf)+'&yf='+str(yf)+'&from='+str(day_start)+'.'+str(month_start)+'.'+str(yf)+'&dt='+str(dt)+'&mt='+str(mt)+'&yt='+str(yt)+'&to='+str(day_end)+'.'+str(month_end)+'.'+str(yt)+'&p='+str(p)+'&f='+str(code)+'_'+str(year_start)+str(month_start)+str(day_start)+'_'+str(year_end)+str(month_end)+str(day_end)+'&e=.'+str(e)+'&cn='+str(code)+'&dtf='+str(dtf)+'&tmf='+str(tmf)+'&MSOR='+str(MSOR)+'&mstime='+str(mstime)+'&mstimever='+str(mstimever)+'&sep='+str(sep)+'&sep2='+str(sep2)+'&datf='+str(datf)+'&at='+str(at)\n",
        "#weblink = 'https://export.finam.ru/export9.out?market=45&em=182400&token=&code=USD000UTSTOM&apply=0&df=8&mf=3&yf=2022&from=08.04.2022&dt=10&mt=3&yt=2022&to=10.04.2022&p=6&f=USD000UTSTOM_220408_220410&e=.csv&cn=USD000UTSTOM&dtf=4&tmf=3&MSOR=1&mstime=on&mstimever=1&sep=1&sep2=2&datf=1&at=1'\n",
        "#weblink = 'https://export.finam.ru/export9.out?market=1&em=175924&token=03AGdBq27DuogTQoyynyc27rTTQClZsi9-EBxeMbo3fau_5sdu0cjMGP0bRqO82XHU_t7wTiE4TbbasAVSjnKN7Y2DqtZDZuM4HigoH2TozLqR_gCzs8rh8o4AF20mto16Rv0Ld6UBAumszFZkbYBqc1ofD_onpudH9msQrXyqM72Dei5EMt7jUrLBsQlboMPK0a94oC5TFjPQh-qjfwb1JY7s_esOV6GGYQPO7_rcOMy8X9k8AU1uw6FSOvWYzFARaJ6JnN4RVlQiSpnWSCeSSoGin00riRXMFZAU67k09p4rJdnQBsrBglxo941peEj9sw5Wf9iOgX4GhEtccOddp3nmiQbTsbVMABbfB0_-hccRHSeIn8p7bx6tg2AW_mpWiSt4WjOdFhImAGMMKF05cdSUwHtrcsJIWgGu4Rj6Uwl8xwo8AWHHOAMyKU2JHN-LyWiCoRSg9mZgPDQw6CrwEnxDJDr8LR3FAg&code=POLY&apply=0&df=8&mf=3&yf=2022&from=08.04.2022&dt=10&mt=3&yt=2022&to=10.04.2022&p=6&f=POLY_220408_220410&e=.csv&cn=USDRUB&dtf=1&tmf=1&MSOR=1&mstime=on&mstimever=1&sep=1&sep2=1&datf=1&at=1'\n",
        "headers = {'User-Agent': 'Mozilla/5.0 (Macintosh; Intel Mac OS X 10_15_3) AppleWebKit/537.36 (KHTML, like Gecko) Chrome/80.0.3987.149 Safari/537.36'}\n",
        "page = requests.get(weblink, headers=headers)\n",
        "page_url = page.url"
      ],
      "metadata": {
        "id": "ekDif56WgJVK"
      },
      "execution_count": 330,
      "outputs": []
    },
    {
      "cell_type": "code",
      "source": [
        "page.text"
      ],
      "metadata": {
        "colab": {
          "base_uri": "https://localhost:8080/",
          "height": 140
        },
        "id": "TYNP5Y3B8CL6",
        "outputId": "6348d143-e997-44ce-e261-3b96ae6f2bf3"
      },
      "execution_count": 331,
      "outputs": [
        {
          "output_type": "execute_result",
          "data": {
            "text/plain": [
              "'<TICKER>,<PER>,<DATE>,<TIME>,<OPEN>,<HIGH>,<LOW>,<CLOSE>,<VOL>\\r\\nUSD000UTSTOM,5,07/04/22,10:00:00,79.7200000,79.7200000,79.7200000,79.7200000,569.000\\r\\nUSD000UTSTOM,5,07/04/22,10:05:00,79.7900000,80.0000000,78.5975000,78.8850000,21.743.000\\r\\nUSD000UTSTOM,5,07/04/22,10:10:00,78.9650000,79.0000000,77.8000000,77.8000000,16.030.000\\r\\nUSD000UTSTOM,5,07/04/22,10:15:00,77.7925000,77.9900000,75.2000000,76.8950000,46.736.000\\r\\nUSD000UTSTOM,5,07/04/22,10:20:00,76.7475000,76.9175000,75.5000000,75.7575000,17.320.000\\r\\nUSD000UTSTOM,5,07/04/22,10:25:00,75.7475000,75.8800000,74.2625000,75.3150000,27.618.000\\r\\nUSD000UTSTOM,5,07/04/22,10:30:00,75.3150000,76.0675000,75.1925000,76.0000000,20.526.000\\r\\nUSD000UTSTOM,5,07/04/22,10:35:00,76.0000000,76.3800000,75.8900000,76.2900000,22.122.000\\r\\nUSD000UTSTOM,5,07/04/22,10:40:00,76.2900000,76.3325000,76.1000000,76.3000000,9.259.000\\r\\nUSD000UTSTOM,5,07/04/22,10:45:00,76.3000000,76.5975000,76.2025000,76.4500000,11.946.000\\r\\nUSD000UTSTOM,5,07/04/22,10:50:00,76.4600000,76.7475000,76.4200000,76.5500000,12.032.000\\r\\nUSD000UTSTOM,5,07/04/22,10:55:00,76.5500000,76.6400000,76.2100000,76.5600000,11.329.000\\r\\nUSD000UTSTOM,5,07/04/22,11:00:00,76.5025000,76.5500000,76.4575000,76.4575000,5.302.000\\r\\nUSD000UTSTOM,5,07/04/22,11:05:00,76.4575000,76.5500000,76.3075000,76.3100000,11.179.000\\r\\nUSD000UTSTOM,5,07/04/22,11:10:00,76.3100000,76.4175000,76.1525000,76.4175000,24.182.000\\r\\nUSD000UTSTOM,5,07/04/22,11:15:00,76.3000000,76.4375000,76.1000000,76.3475000,14.809.000\\r\\nUSD000UTSTOM,5,07/04/22,11:20:00,76.2500000,76.3800000,76.1100000,76.3775000,12.799.000\\r\\nUSD000UTSTOM,5,07/04/22,11:25:00,76.2000000,76.3775000,76.1500000,76.2200000,10.694.000\\r\\nUSD000UTSTOM,5,07/04/22,11:30:00,76.2000000,76.3300000,76.2000000,76.2725000,10.344.000\\r\\nUSD000UTSTOM,5,07/04/22,11:35:00,76.3150000,76.3300000,76.2000000,76.2375000,14.780.000\\r\\nUSD000UTSTOM,5,07/04/22,11:40:00,76.2100000,76.2475000,76.1050000,76.1100000,15.978.000\\r\\nUSD000UTSTOM,5,07/04/22,11:45:00,76.1100000,76.1700000,76.0800000,76.0800000,26.266.000\\r\\nUSD000UTSTOM,5,07/04/22,11:50:00,76.0800000,76.1000000,75.8000000,75.8450000,22.874.000\\r\\nUSD000UTSTOM,5,07/04/22,11:55:00,75.8000000,75.8450000,75.5700000,75.5700000,10.779.000\\r\\nUSD000UTSTOM,5,07/04/22,12:00:00,75.5700000,75.8000000,75.5700000,75.6600000,19.253.000\\r\\nUSD000UTSTOM,5,07/04/22,12:05:00,75.6600000,75.8450000,75.6500000,75.6700000,14.798.000\\r\\nUSD000UTSTOM,5,07/04/22,12:10:00,75.6700000,75.7300000,75.6500000,75.6550000,16.043.000\\r\\nUSD000UTSTOM,5,07/04/22,12:15:00,75.6550000,75.9600000,75.6500000,75.8450000,11.345.000\\r\\nUSD000UTSTOM,5,07/04/22,12:20:00,75.8450000,75.8700000,75.6600000,75.8700000,6.020.000\\r\\nUSD000UTSTOM,5,07/04/22,12:25:00,75.8500000,75.9375000,75.7500000,75.8400000,16.515.000\\r\\nUSD000UTSTOM,5,07/04/22,12:30:00,75.7600000,76.3975000,75.7600000,76.3800000,58.392.000\\r\\nUSD000UTSTOM,5,07/04/22,12:35:00,76.3500000,76.5000000,76.3500000,76.5000000,29.005.000\\r\\nUSD000UTSTOM,5,07/04/22,12:40:00,76.5000000,76.8100000,76.4975000,76.7500000,26.142.000\\r\\nUSD000UTSTOM,5,07/04/22,12:45:00,76.8075000,76.9800000,76.7200000,76.8000000,12.715.000\\r\\nUSD000UTSTOM,5,07/04/22,12:50:00,76.8000000,76.9700000,76.8000000,76.9650000,6.052.000\\r\\nUSD000UTSTOM,5,07/04/22,12:55:00,76.9650000,77.0000000,76.8500000,76.8500000,6.813.000\\r\\nUSD000UTSTOM,5,07/04/22,13:00:00,76.9175000,77.0000000,76.8450000,76.9025000,8.889.000\\r\\nUSD000UTSTOM,5,07/04/22,13:05:00,76.9625000,76.9775000,76.8500000,76.8800000,8.568.000\\r\\nUSD000UTSTOM,5,07/04/22,13:10:00,76.8800000,76.9500000,76.8500000,76.8800000,9.490.000\\r\\nUSD000UTSTOM,5,07/04/22,13:15:00,76.9000000,76.9400000,76.0600000,76.5850000,15.097.000\\r\\nUSD000UTSTOM,5,07/04/22,13:20:00,76.2025000,76.5150000,76.2025000,76.2025000,2.437.000\\r\\nUSD000UTSTOM,5,07/04/22,13:25:00,76.2850000,76.3800000,75.9875000,75.9875000,8.335.000\\r\\nUSD000UTSTOM,5,07/04/22,13:30:00,75.9875000,76.1700000,75.9125000,75.9275000,3.798.000\\r\\nUSD000UTSTOM,5,07/04/22,13:35:00,76.0000000,76.0150000,75.8700000,76.0000000,14.980.000\\r\\nUSD000UTSTOM,5,07/04/22,13:40:00,76.0000000,76.1000000,75.8700000,76.0750000,6.775.000\\r\\nUSD000UTSTOM,5,07/04/22,13:45:00,76.0750000,76.0750000,75.7700000,75.9200000,2.597.000\\r\\nUSD000UTSTOM,5,07/04/22,13:50:00,75.9225000,76.0950000,75.8300000,76.0950000,10.106.000\\r\\nUSD000UTSTOM,5,07/04/22,13:55:00,76.0450000,76.2000000,75.9975000,76.1950000,5.217.000\\r\\nUSD000UTSTOM,5,07/04/22,14:00:00,76.1900000,76.2000000,76.0400000,76.1300000,1.327.000\\r\\nUSD000UTSTOM,5,07/04/22,14:05:00,76.1300000,76.2000000,76.1025000,76.1625000,2.814.000\\r\\nUSD000UTSTOM,5,07/04/22,14:10:00,76.1625000,76.2000000,76.0400000,76.0400000,6.006.000\\r\\nUSD000UTSTOM,5,07/04/22,14:15:00,76.0975000,76.1000000,75.9100000,75.9100000,2.628.000\\r\\nUSD000UTSTOM,5,07/04/22,14:20:00,75.9050000,76.2000000,75.9000000,76.2000000,11.912.000\\r\\nUSD000UTSTOM,5,07/04/22,14:25:00,76.0525000,76.2000000,76.0200000,76.0225000,1.438.000\\r\\nUSD000UTSTOM,5,07/04/22,14:30:00,76.0500000,76.0900000,75.9000000,75.9175000,7.058.000\\r\\nUSD000UTSTOM,5,07/04/22,14:35:00,75.9175000,76.0550000,75.8700000,76.0000000,9.995.000\\r\\nUSD000UTSTOM,5,07/04/22,14:40:00,76.0000000,76.1000000,76.0000000,76.0400000,12.414.000\\r\\nUSD000UTSTOM,5,07/04/22,14:45:00,76.0400000,76.0800000,75.8700000,75.9325000,12.366.000\\r\\nUSD000UTSTOM,5,07/04/22,14:50:00,75.8750000,75.9300000,75.6500000,75.6500000,11.576.000\\r\\nUSD000UTSTOM,5,07/04/22,14:55:00,75.7625000,75.7650000,75.5100000,75.6650000,7.330.000\\r\\nUSD000UTSTOM,5,07/04/22,15:00:00,75.6950000,75.9100000,75.6500000,75.9100000,7.832.000\\r\\nUSD000UTSTOM,5,07/04/22,15:05:00,75.9100000,75.9600000,75.7900000,75.8975000,3.652.000\\r\\nUSD000UTSTOM,5,07/04/22,15:10:00,75.9500000,75.9600000,75.7900000,75.7900000,1.307.000\\r\\nUSD000UTSTOM,5,07/04/22,15:15:00,75.7900000,75.9600000,75.7900000,75.9050000,3.467.000\\r\\nUSD000UTSTOM,5,07/04/22,15:20:00,75.9550000,75.9600000,75.8525000,75.8525000,5.744.000\\r\\nUSD000UTSTOM,5,07/04/22,15:25:00,75.9450000,76.1400000,75.8575000,76.0550000,5.098.000\\r\\nUSD000UTSTOM,5,07/04/22,15:30:00,76.0525000,76.0525000,75.9200000,75.9225000,4.934.000\\r\\nUSD000UTSTOM,5,07/04/22,15:35:00,76.0000000,76.0000000,75.9200000,75.9200000,2.107.000\\r\\nUSD000UTSTOM,5,07/04/22,15:40:00,75.9700000,75.9900000,75.8300000,75.9500000,7.847.000\\r\\nUSD000UTSTOM,5,07/04/22,15:45:00,75.9600000,76.0500000,75.9500000,76.0500000,8.866.000\\r\\nUSD000UTSTOM,5,07/04/22,15:50:00,76.0500000,76.1150000,76.0000000,76.0500000,905.000\\r\\nUSD000UTSTOM,5,07/04/22,15:55:00,76.0050000,76.1000000,76.0050000,76.0200000,2.125.000\\r\\nUSD000UTSTOM,5,07/04/22,16:00:00,76.0200000,76.0950000,76.0000000,76.0025000,13.021.000\\r\\nUSD000UTSTOM,5,07/04/22,16:05:00,76.0000000,76.1000000,75.9525000,76.0725000,5.858.000\\r\\nUSD000UTSTOM,5,07/04/22,16:10:00,76.0725000,76.1500000,76.0425000,76.0925000,2.770.000\\r\\nUSD000UTSTOM,5,07/04/22,16:15:00,76.0875000,76.1000000,75.9200000,75.9200000,4.379.000\\r\\nUSD000UTSTOM,5,07/04/22,16:20:00,75.9200000,76.0000000,75.9000000,75.9700000,2.038.000\\r\\nUSD000UTSTOM,5,07/04/22,16:25:00,75.9900000,75.9950000,75.8925000,75.8925000,783.000\\r\\nUSD000UTSTOM,5,07/04/22,16:30:00,75.8925000,76.0075000,75.8925000,76.0050000,6.526.000\\r\\nUSD000UTSTOM,5,07/04/22,16:35:00,75.9975000,76.0800000,75.9725000,76.0000000,7.629.000\\r\\nUSD000UTSTOM,5,07/04/22,16:40:00,76.0000000,76.0100000,75.9725000,76.0000000,9.599.000\\r\\nUSD000UTSTOM,5,07/04/22,16:45:00,76.0000000,76.0075000,75.9100000,75.9100000,7.165.000\\r\\nUSD000UTSTOM,5,07/04/22,16:50:00,75.9100000,75.9425000,75.8000000,75.8300000,7.347.000\\r\\nUSD000UTSTOM,5,07/04/22,16:55:00,75.8950000,75.8950000,75.7700000,75.7900000,7.208.000\\r\\nUSD000UTSTOM,5,07/04/22,17:00:00,75.7700000,75.8700000,75.7700000,75.8500000,1.109.000\\r\\nUSD000UTSTOM,5,07/04/22,17:05:00,75.8700000,75.9375000,75.8000000,75.8000000,2.009.000\\r\\nUSD000UTSTOM,5,07/04/22,17:10:00,75.8000000,75.8675000,75.6300000,75.6300000,15.375.000\\r\\nUSD000UTSTOM,5,07/04/22,17:15:00,75.6500000,75.6850000,75.6000000,75.6425000,4.295.000\\r\\nUSD000UTSTOM,5,07/04/22,17:20:00,75.6475000,75.6800000,75.5175000,75.5200000,5.220.000\\r\\nUSD000UTSTOM,5,07/04/22,17:25:00,75.5200000,75.5950000,75.5200000,75.5500000,9.975.000\\r\\nUSD000UTSTOM,5,07/04/22,17:30:00,75.5500000,75.5500000,75.5200000,75.5400000,7.077.000\\r\\nUSD000UTSTOM,5,07/04/22,17:35:00,75.5225000,75.5400000,75.5100000,75.5100000,8.743.000\\r\\nUSD000UTSTOM,5,07/04/22,17:40:00,75.5100000,75.5500000,75.5100000,75.5100000,13.905.000\\r\\nUSD000UTSTOM,5,07/04/22,17:45:00,75.5100000,75.5400000,75.4750000,75.5100000,16.849.000\\r\\nUSD000UTSTOM,5,07/04/22,17:50:00,75.5100000,75.6500000,75.5100000,75.5500000,27.897.000\\r\\nUSD000UTSTOM,5,07/04/22,17:55:00,75.5450000,76.0000000,75.4900000,75.4900000,27.484.000\\r\\nUSD000UTSTOM,5,07/04/22,18:00:00,75.4875000,75.8000000,75.4500000,75.5225000,2.828.000\\r\\nUSD000UTSTOM,5,07/04/22,18:05:00,75.6650000,75.8600000,75.5525000,75.8600000,4.485.000\\r\\nUSD000UTSTOM,5,07/04/22,18:10:00,75.8600000,76.2500000,75.6825000,76.0000000,19.263.000\\r\\nUSD000UTSTOM,5,07/04/22,18:15:00,76.0000000,76.0500000,75.9600000,75.9975000,8.629.000\\r\\nUSD000UTSTOM,5,07/04/22,18:20:00,75.9625000,76.1975000,75.9300000,76.0500000,14.135.000\\r\\nUSD000UTSTOM,5,07/04/22,18:25:00,76.0400000,76.0500000,76.0100000,76.0500000,4.302.000\\r\\nUSD000UTSTOM,5,07/04/22,18:30:00,76.0500000,76.1000000,75.9300000,76.0100000,12.314.000\\r\\nUSD000UTSTOM,5,07/04/22,18:35:00,76.0000000,76.2000000,75.9400000,76.0975000,15.221.000\\r\\nUSD000UTSTOM,5,07/04/22,18:40:00,76.0975000,76.2000000,76.0100000,76.0175000,2.629.000\\r\\nUSD000UTSTOM,5,07/04/22,18:45:00,76.0200000,76.1975000,76.0100000,76.0100000,3.081.000\\r\\nUSD000UTSTOM,5,07/04/22,18:50:00,76.0100000,76.0300000,75.9800000,76.0100000,1.262.000\\r\\nUSD000UTSTOM,5,07/04/22,18:55:00,75.9600000,76.0200000,75.6000000,75.7000000,1.656.000\\r\\nUSD000UTSTOM,5,07/04/22,19:00:00,75.9900000,75.9900000,75.6700000,75.7500000,670.000\\r\\n'"
            ],
            "application/vnd.google.colaboratory.intrinsic+json": {
              "type": "string"
            }
          },
          "metadata": {},
          "execution_count": 331
        }
      ]
    },
    {
      "cell_type": "code",
      "source": [
        "#'https://export.finam.ru/export9.out?market='+str(market)+'&em='+str(em)+'&token='+str(token)+'&code='+str(code)+'&apply=0&df='+str(df)+'&mf='+str(mf)+'&yf='+str(yf)+'&from='+str(day_start)+'.'+str(month_start)+'.'+str(yf)+'&dt='+str(dt)+'&mt='+str(mt)+'&yt='+str(yt)+'&to='+str(day_end)+'.'+str(month_end)+'.'+str(yt)+'&p='+str(p)+'&f='+str(code)+'_'+str(year_start)+str(month_start)+str(day_start)+'_'+str(year_end)+str(month_end)+str(day_end)+'&e=.'+str(e)+'&cn='+str(code)+'&dtf='+str(dtf)+'&tmf='+str(tmf)+'&MSOR='+str(MSOR)+'&mstime='+str(mstime)+'&mstimever='+str(mstimever)+'&sep='+str(sep)+'&sep2='+str(sep2)+'&datf='+str(datf)+'&at='+str(at) == 'https://export.finam.ru/export9.out?market=45&em=182400&token=&code=USD000UTSTOM&apply=0&df=8&mf=3&yf=2022&from=08.04.2022&dt=10&mt=3&yt=2022&to=10.04.2022&p=6&f=USD000UTSTOM_220408_220410&e=.csv&cn=USD000UTSTOM&dtf=4&tmf=3&MSOR=1&mstime=on&mstimever=1&sep=1&sep2=2&datf=1&at=1'"
      ],
      "metadata": {
        "id": "EjOdvyFj8T1h"
      },
      "execution_count": 314,
      "outputs": []
    },
    {
      "cell_type": "code",
      "source": [
        "#print('https://export.finam.ru/export9.out?market=45&em=182400&token=&code=USD000UTSTOM&apply=0&df=8&mf=3&yf=2022&from=08.04.2022&dt=10&mt=3&yt=2022&to=10.04.2022&p=6&f=USD000UTSTOM_220408_220410&e=.csv&cn=USD000UTSTOM&dtf=4&tmf=3&MSOR=1&mstime=on&mstimever=1&sep=1&sep2=2&datf=1&at=1')\n",
        "#print('https://export.finam.ru/export9.out?market='+str(market)+'&em='+str(em)+'&token=&code='+str(code)+'&apply=0&df='+str(df)+'&mf='+str(mf)+'&yf='+str(yf)+'&from='+str(day_start)+'.'+str(month_start)+'.'+str(yf)+'&dt='+str(dt)+'&mt='+str(mt)+'&yt='+str(yt)+'&to='+str(day_end)+'.'+str(month_end)+'.'+str(yt)+'&p='+str(p)+'&f='+str(code)+'_'+str(year_start)+str(month_start)+str(day_start)+'_'+str(year_end)+str(month_end)+str(day_end)+'&e=.'+str(e)+'&cn='+str(code)+'&dtf='+str(dtf)+'&tmf='+str(tmf)+'&MSOR='+str(MSOR)+'&mstime='+str(mstime)+'&mstimever='+str(mstimever)+'&sep='+str(sep)+'&sep2='+str(sep2)+'&datf='+str(datf)+'&at='+str(at))"
      ],
      "metadata": {
        "id": "65wpTAX-8bnA"
      },
      "execution_count": null,
      "outputs": []
    },
    {
      "cell_type": "code",
      "source": [
        "#'df=8&mf=3&yf=2022' == 'df='+str(df)+'&mf='+str(mf)+'&yf='+str(yf)\n",
        "#print(str(e)+'&cn='+str(code)+'&dtf='+str(dtf)+'&tmf='+str(tmf)+'&MSOR='+str(MSOR)+'&mstime='+str(mstime)+'&mstimever='+str(mstimever)+'&sep='+str(sep)+'&sep2='+str(sep2)+'&datf='+str(datf)+'&at='+str(at))"
      ],
      "metadata": {
        "id": "tppK_VoTwdao"
      },
      "execution_count": 283,
      "outputs": []
    },
    {
      "cell_type": "code",
      "source": [
        "#str(e)+'&cn='+str(code)+'&dtf='+str(dtf)+'&tmf='+str(tmf)+'&MSOR='+str(MSOR)+'&mstime='+str(mstime)+'&mstimever='+str(mstimever)+'&sep='+str(sep)+'&sep2='+str(sep2)+'&datf='+str(datf)+'&at='+str(at) == '.csv&cn=USD000UTSTOM&dtf=4&tmf=3&MSOR=1&mstime=on&mstimever=1&sep=1&sep2=2&datf=1&at=1'"
      ],
      "metadata": {
        "id": "59Jtvztp5W7H"
      },
      "execution_count": 264,
      "outputs": []
    },
    {
      "cell_type": "code",
      "source": [
        "#print('df='+str(df)+'&mf='+str(mf)+'&yf='+str(yf))\n",
        "#print('.csv&cn=USD000UTSTOM&dtf=4&tmf=3&MSOR=1&mstime=on&mstimever=1&sep=1&sep2=2&datf=1&at=1')"
      ],
      "metadata": {
        "id": "0_Au8uflw3DR"
      },
      "execution_count": 265,
      "outputs": []
    },
    {
      "cell_type": "code",
      "source": [
        "from io import StringIO\n",
        "import pandas as pd\n",
        "\n",
        "TESTDATA = StringIO(page.text)\n",
        "\n",
        "data = pd.read_csv(TESTDATA, sep=\",\")"
      ],
      "metadata": {
        "id": "oGsSmS6GjCAH"
      },
      "execution_count": 332,
      "outputs": []
    },
    {
      "cell_type": "code",
      "source": [
        "data.columns = data.columns.str.replace('<','')\n",
        "data.columns = data.columns.str.replace('>','')"
      ],
      "metadata": {
        "id": "YjADagYtjUdA"
      },
      "execution_count": 333,
      "outputs": []
    },
    {
      "cell_type": "code",
      "source": [
        "data.head()"
      ],
      "metadata": {
        "colab": {
          "base_uri": "https://localhost:8080/",
          "height": 204
        },
        "id": "mc-_jnaYlIz3",
        "outputId": "da062eb0-bf5e-4568-f20b-ce2758652ac3"
      },
      "execution_count": 334,
      "outputs": [
        {
          "output_type": "execute_result",
          "data": {
            "text/plain": [
              "         TICKER  PER      DATE      TIME     OPEN     HIGH      LOW    CLOSE  \\\n",
              "0  USD000UTSTOM    5  07/04/22  10:00:00  79.7200  79.7200  79.7200  79.7200   \n",
              "1  USD000UTSTOM    5  07/04/22  10:05:00  79.7900  80.0000  78.5975  78.8850   \n",
              "2  USD000UTSTOM    5  07/04/22  10:10:00  78.9650  79.0000  77.8000  77.8000   \n",
              "3  USD000UTSTOM    5  07/04/22  10:15:00  77.7925  77.9900  75.2000  76.8950   \n",
              "4  USD000UTSTOM    5  07/04/22  10:20:00  76.7475  76.9175  75.5000  75.7575   \n",
              "\n",
              "          VOL  \n",
              "0     569.000  \n",
              "1  21.743.000  \n",
              "2  16.030.000  \n",
              "3  46.736.000  \n",
              "4  17.320.000  "
            ],
            "text/html": [
              "\n",
              "  <div id=\"df-ae831ba9-6d81-4c90-b9a9-b8e4be92f138\">\n",
              "    <div class=\"colab-df-container\">\n",
              "      <div>\n",
              "<style scoped>\n",
              "    .dataframe tbody tr th:only-of-type {\n",
              "        vertical-align: middle;\n",
              "    }\n",
              "\n",
              "    .dataframe tbody tr th {\n",
              "        vertical-align: top;\n",
              "    }\n",
              "\n",
              "    .dataframe thead th {\n",
              "        text-align: right;\n",
              "    }\n",
              "</style>\n",
              "<table border=\"1\" class=\"dataframe\">\n",
              "  <thead>\n",
              "    <tr style=\"text-align: right;\">\n",
              "      <th></th>\n",
              "      <th>TICKER</th>\n",
              "      <th>PER</th>\n",
              "      <th>DATE</th>\n",
              "      <th>TIME</th>\n",
              "      <th>OPEN</th>\n",
              "      <th>HIGH</th>\n",
              "      <th>LOW</th>\n",
              "      <th>CLOSE</th>\n",
              "      <th>VOL</th>\n",
              "    </tr>\n",
              "  </thead>\n",
              "  <tbody>\n",
              "    <tr>\n",
              "      <th>0</th>\n",
              "      <td>USD000UTSTOM</td>\n",
              "      <td>5</td>\n",
              "      <td>07/04/22</td>\n",
              "      <td>10:00:00</td>\n",
              "      <td>79.7200</td>\n",
              "      <td>79.7200</td>\n",
              "      <td>79.7200</td>\n",
              "      <td>79.7200</td>\n",
              "      <td>569.000</td>\n",
              "    </tr>\n",
              "    <tr>\n",
              "      <th>1</th>\n",
              "      <td>USD000UTSTOM</td>\n",
              "      <td>5</td>\n",
              "      <td>07/04/22</td>\n",
              "      <td>10:05:00</td>\n",
              "      <td>79.7900</td>\n",
              "      <td>80.0000</td>\n",
              "      <td>78.5975</td>\n",
              "      <td>78.8850</td>\n",
              "      <td>21.743.000</td>\n",
              "    </tr>\n",
              "    <tr>\n",
              "      <th>2</th>\n",
              "      <td>USD000UTSTOM</td>\n",
              "      <td>5</td>\n",
              "      <td>07/04/22</td>\n",
              "      <td>10:10:00</td>\n",
              "      <td>78.9650</td>\n",
              "      <td>79.0000</td>\n",
              "      <td>77.8000</td>\n",
              "      <td>77.8000</td>\n",
              "      <td>16.030.000</td>\n",
              "    </tr>\n",
              "    <tr>\n",
              "      <th>3</th>\n",
              "      <td>USD000UTSTOM</td>\n",
              "      <td>5</td>\n",
              "      <td>07/04/22</td>\n",
              "      <td>10:15:00</td>\n",
              "      <td>77.7925</td>\n",
              "      <td>77.9900</td>\n",
              "      <td>75.2000</td>\n",
              "      <td>76.8950</td>\n",
              "      <td>46.736.000</td>\n",
              "    </tr>\n",
              "    <tr>\n",
              "      <th>4</th>\n",
              "      <td>USD000UTSTOM</td>\n",
              "      <td>5</td>\n",
              "      <td>07/04/22</td>\n",
              "      <td>10:20:00</td>\n",
              "      <td>76.7475</td>\n",
              "      <td>76.9175</td>\n",
              "      <td>75.5000</td>\n",
              "      <td>75.7575</td>\n",
              "      <td>17.320.000</td>\n",
              "    </tr>\n",
              "  </tbody>\n",
              "</table>\n",
              "</div>\n",
              "      <button class=\"colab-df-convert\" onclick=\"convertToInteractive('df-ae831ba9-6d81-4c90-b9a9-b8e4be92f138')\"\n",
              "              title=\"Convert this dataframe to an interactive table.\"\n",
              "              style=\"display:none;\">\n",
              "        \n",
              "  <svg xmlns=\"http://www.w3.org/2000/svg\" height=\"24px\"viewBox=\"0 0 24 24\"\n",
              "       width=\"24px\">\n",
              "    <path d=\"M0 0h24v24H0V0z\" fill=\"none\"/>\n",
              "    <path d=\"M18.56 5.44l.94 2.06.94-2.06 2.06-.94-2.06-.94-.94-2.06-.94 2.06-2.06.94zm-11 1L8.5 8.5l.94-2.06 2.06-.94-2.06-.94L8.5 2.5l-.94 2.06-2.06.94zm10 10l.94 2.06.94-2.06 2.06-.94-2.06-.94-.94-2.06-.94 2.06-2.06.94z\"/><path d=\"M17.41 7.96l-1.37-1.37c-.4-.4-.92-.59-1.43-.59-.52 0-1.04.2-1.43.59L10.3 9.45l-7.72 7.72c-.78.78-.78 2.05 0 2.83L4 21.41c.39.39.9.59 1.41.59.51 0 1.02-.2 1.41-.59l7.78-7.78 2.81-2.81c.8-.78.8-2.07 0-2.86zM5.41 20L4 18.59l7.72-7.72 1.47 1.35L5.41 20z\"/>\n",
              "  </svg>\n",
              "      </button>\n",
              "      \n",
              "  <style>\n",
              "    .colab-df-container {\n",
              "      display:flex;\n",
              "      flex-wrap:wrap;\n",
              "      gap: 12px;\n",
              "    }\n",
              "\n",
              "    .colab-df-convert {\n",
              "      background-color: #E8F0FE;\n",
              "      border: none;\n",
              "      border-radius: 50%;\n",
              "      cursor: pointer;\n",
              "      display: none;\n",
              "      fill: #1967D2;\n",
              "      height: 32px;\n",
              "      padding: 0 0 0 0;\n",
              "      width: 32px;\n",
              "    }\n",
              "\n",
              "    .colab-df-convert:hover {\n",
              "      background-color: #E2EBFA;\n",
              "      box-shadow: 0px 1px 2px rgba(60, 64, 67, 0.3), 0px 1px 3px 1px rgba(60, 64, 67, 0.15);\n",
              "      fill: #174EA6;\n",
              "    }\n",
              "\n",
              "    [theme=dark] .colab-df-convert {\n",
              "      background-color: #3B4455;\n",
              "      fill: #D2E3FC;\n",
              "    }\n",
              "\n",
              "    [theme=dark] .colab-df-convert:hover {\n",
              "      background-color: #434B5C;\n",
              "      box-shadow: 0px 1px 3px 1px rgba(0, 0, 0, 0.15);\n",
              "      filter: drop-shadow(0px 1px 2px rgba(0, 0, 0, 0.3));\n",
              "      fill: #FFFFFF;\n",
              "    }\n",
              "  </style>\n",
              "\n",
              "      <script>\n",
              "        const buttonEl =\n",
              "          document.querySelector('#df-ae831ba9-6d81-4c90-b9a9-b8e4be92f138 button.colab-df-convert');\n",
              "        buttonEl.style.display =\n",
              "          google.colab.kernel.accessAllowed ? 'block' : 'none';\n",
              "\n",
              "        async function convertToInteractive(key) {\n",
              "          const element = document.querySelector('#df-ae831ba9-6d81-4c90-b9a9-b8e4be92f138');\n",
              "          const dataTable =\n",
              "            await google.colab.kernel.invokeFunction('convertToInteractive',\n",
              "                                                     [key], {});\n",
              "          if (!dataTable) return;\n",
              "\n",
              "          const docLinkHtml = 'Like what you see? Visit the ' +\n",
              "            '<a target=\"_blank\" href=https://colab.research.google.com/notebooks/data_table.ipynb>data table notebook</a>'\n",
              "            + ' to learn more about interactive tables.';\n",
              "          element.innerHTML = '';\n",
              "          dataTable['output_type'] = 'display_data';\n",
              "          await google.colab.output.renderOutput(dataTable, element);\n",
              "          const docLink = document.createElement('div');\n",
              "          docLink.innerHTML = docLinkHtml;\n",
              "          element.appendChild(docLink);\n",
              "        }\n",
              "      </script>\n",
              "    </div>\n",
              "  </div>\n",
              "  "
            ]
          },
          "metadata": {},
          "execution_count": 334
        }
      ]
    },
    {
      "cell_type": "code",
      "source": [
        "import matplotlib.pyplot as plt"
      ],
      "metadata": {
        "id": "zvBi2YR8lVEc"
      },
      "execution_count": 335,
      "outputs": []
    },
    {
      "cell_type": "code",
      "source": [
        "plt.figure(figsize=(15,7))\n",
        "\n",
        "plt.plot(data['TIME'],data['CLOSE'])\n",
        "\n",
        "plt.title('USDRUB_TOM')\n",
        "\n",
        "plt.show()"
      ],
      "metadata": {
        "colab": {
          "base_uri": "https://localhost:8080/",
          "height": 444
        },
        "id": "jAkRTWfvlapx",
        "outputId": "756b5aad-f6d2-4d2f-f852-0df00b0d2681"
      },
      "execution_count": 336,
      "outputs": [
        {
          "output_type": "display_data",
          "data": {
            "text/plain": [
              "<Figure size 1080x504 with 1 Axes>"
            ],
            "image/png": "[encoded data removed]"
          },
          "metadata": {
            "needs_background": "light"
          }
        }
      ]
    }
  ]
}
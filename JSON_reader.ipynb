{
  "nbformat": 4,
  "nbformat_minor": 0,
  "metadata": {
    "colab": {
      "name": "JSON_reader.ipynb",
      "provenance": [],
      "authorship_tag": "ABX9TyMCx607oQk02izio+vutfEz",
      "include_colab_link": true
    },
    "kernelspec": {
      "name": "python3",
      "display_name": "Python 3"
    },
    "language_info": {
      "name": "python"
    }
  },
  "cells": [
    {
      "cell_type": "markdown",
      "metadata": {
        "id": "view-in-github",
        "colab_type": "text"
      },
      "source": [
        "<a href=\"https://colab.research.google.com/github/Khomiakov7706/SKAB/blob/master/JSON_reader.ipynb\" target=\"_parent\"><img src=\"https://colab.research.google.com/assets/colab-badge.svg\" alt=\"Open In Colab\"/></a>"
      ]
    },
    {
      "cell_type": "code",
      "execution_count": null,
      "metadata": {
        "id": "pRF1EMWJHi2I"
      },
      "outputs": [],
      "source": [
        "# Load JSON: json_data\n",
        "with open(\"a_movie.json\") as json_file:\n",
        "    json_data = json.load(json_file)\n",
        "\n",
        "# Print each key-value pair in json_data\n",
        "for k in json_data.keys():\n",
        "    print(k + ': ', json_data[k])"
      ]
    }
  ]
}
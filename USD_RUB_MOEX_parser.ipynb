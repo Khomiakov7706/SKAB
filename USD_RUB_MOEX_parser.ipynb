{
  "nbformat": 4,
  "nbformat_minor": 0,
  "metadata": {
    "colab": {
      "name": "USD_RUB_MOEX_parser.ipynb",
      "provenance": [],
      "authorship_tag": "ABX9TyMroeW3iIVLN/H7zuFfr7vW",
      "include_colab_link": true
    },
    "kernelspec": {
      "name": "python3",
      "display_name": "Python 3"
    },
    "language_info": {
      "name": "python"
    }
  },
  "cells": [
    {
      "cell_type": "markdown",
      "metadata": {
        "id": "view-in-github",
        "colab_type": "text"
      },
      "source": [
        "<a href=\"https://colab.research.google.com/github/Khomiakov7706/SKAB/blob/master/USD_RUB_MOEX_parser.ipynb\" target=\"_parent\"><img src=\"https://colab.research.google.com/assets/colab-badge.svg\" alt=\"Open In Colab\"/></a>"
      ]
    },
    {
      "cell_type": "markdown",
      "source": [
        ""
      ],
      "metadata": {
        "id": "34q0bJ6SHygt"
      }
    },
    {
      "cell_type": "code",
      "execution_count": 58,
      "metadata": {
        "colab": {
          "base_uri": "https://localhost:8080/"
        },
        "id": "EaC7fU63N82U",
        "outputId": "5e427569-4a48-4581-891d-30857c9d644e"
      },
      "outputs": [
        {
          "output_type": "stream",
          "name": "stdout",
          "text": [
            "Requirement already satisfied: requests in /usr/local/lib/python3.7/dist-packages (2.23.0)\n",
            "Requirement already satisfied: bs4 in /usr/local/lib/python3.7/dist-packages (0.0.1)\n",
            "Requirement already satisfied: idna<3,>=2.5 in /usr/local/lib/python3.7/dist-packages (from requests) (2.10)\n",
            "Requirement already satisfied: chardet<4,>=3.0.2 in /usr/local/lib/python3.7/dist-packages (from requests) (3.0.4)\n",
            "Requirement already satisfied: urllib3!=1.25.0,!=1.25.1,<1.26,>=1.21.1 in /usr/local/lib/python3.7/dist-packages (from requests) (1.24.3)\n",
            "Requirement already satisfied: certifi>=2017.4.17 in /usr/local/lib/python3.7/dist-packages (from requests) (2021.10.8)\n",
            "Requirement already satisfied: beautifulsoup4 in /usr/local/lib/python3.7/dist-packages (from bs4) (4.6.3)\n"
          ]
        }
      ],
      "source": [
        "pip install requests bs4"
      ]
    },
    {
      "cell_type": "code",
      "source": [
        "from urllib.request import urlopen\n",
        "import requests # Модуль для обработки URL\n",
        "import pandas as pd\n",
        "import matplotlib.pyplot as plt\n",
        "from io import StringIO\n",
        "import numpy as np\n",
        "from google.colab import files"
      ],
      "metadata": {
        "id": "DgnEkNvy-yL1"
      },
      "execution_count": 59,
      "outputs": []
    },
    {
      "cell_type": "markdown",
      "source": [
        "# Анализ исходного кода [страницы Finam](https://www.finam.ru/profile/mosbirzha-valyutnyj-rynok/usdrubtom-usd-rub/export/?market=45&em=182400&token=03AGdBq27DuogTQoyynyc27rTTQClZsi9-EBxeMbo3fau_5sdu0cjMGP0bRqO82XHU_t7wTiE4TbbasAVSjnKN7Y2DqtZDZuM4HigoH2TozLqR_gCzs8rh8o4AF20mto16Rv0Ld6UBAumszFZkbYBqc1ofD_onpudH9msQrXyqM72Dei5EMt7jUrLBsQlboMPK0a94oC5TFjPQh-qjfwb1JY7s_esOV6GGYQPO7_rcOMy8X9k8AU1uw6FSOvWYzFARaJ6JnN4RVlQiSpnWSCeSSoGin00riRXMFZAU67k09p4rJdnQBsrBglxo941peEj9sw5Wf9iOgX4GhEtccOddp3nmiQbTsbVMABbfB0_-hccRHSeIn8p7bx6tg2AW_mpWiSt4WjOdFhImAGMMKF05cdSUwHtrcsJIWgGu4Rj6Uwl8xwo8AWHHOAMyKU2JHN-LyWiCoRSg9mZgPDQw6CrwEnxDJDr8LR3FAg&code=USD000UTSTOM&apply=0&df=8&mf=3&yf=2022&from=08.04.2022&dt=10&mt=3&yt=2022&to=10.04.2022&p=6&f=USD000UTSTOM_220408_220410&e=.csv&cn=USD000UTSTOM&dtf=1&tmf=1&MSOR=1&mstime=on&mstimever=1&sep=1&sep2=1&datf=1&at=1) с курсом $ USDRUB_TOM \n"
      ],
      "metadata": {
        "id": "0YMo92Ywbo0W"
      }
    },
    {
      "cell_type": "markdown",
      "source": [
        "\n",
        "\n",
        "Finam.IssuerProfile.Main.issue = {\n",
        "                                    \"quote\": {\n",
        "                                        \"id\": 182400,\n",
        "                                        \"code\": \"USD000UTSTOM\",\n",
        "                                        \"fullUrl\": \"mosbirzha-valyutnyj-rynok/usdrubtom-usd-rub\",\n",
        "\n",
        "                                        \"title\": \"USDRUB_TOM\",\n",
        "                                        \"decp\": 4,\n",
        "                                        \"testDriveEnabled\": false,\n",
        "                                        \"market\": {\n",
        "                                            \"id\": 45,\n",
        "                                            \"title\": \"МосБиржа валютный рынок\",\n",
        "\n",
        "                                            \"volumeEnabled\": true\n",
        "                                        },\n",
        "                                        \"info\": {\n",
        "                                            \"decp\": 4,\n",
        "                                            \"last\": 76.08,\n",
        "                                            \"pchange\": 0.43564,\n",
        "                                            \"change\": 0.33,\n",
        "                                            \"bid\": null,\n",
        "                                            \"ask\": null,\n",
        "                                            \"open\": 75.75,\n",
        "                                            \"high\": 76.26,\n",
        "                                            \"low\": 71,\n",
        "                                            \"close\": 75.75,\n",
        "                                            \"volume\": 1344670000,\n",
        "                                            \"date\": \"08.04.2022 18:59:52\",\n",
        "                                            \"weekMin\": 71,\n",
        "                                            \"weekMax\": 85.315,\n",
        "                                            \"monthMin\": 71,\n",
        "                                            \"monthMax\": 121.5275,\n",
        "                                            \"yearMin\": 69.21,\n",
        "                                            \"yearMax\": 121.5275,\n",
        "                                            \"currency\": null,\n",
        "                                            \"volumeCode\": null\n",
        "                                        },"
      ],
      "metadata": {
        "id": "RlLxmS3sIBun"
      }
    },
    {
      "cell_type": "markdown",
      "source": [
        "Для USDRUB_TOM:\n",
        "\n",
        "market = 45, \n",
        "\n",
        "em = 182400, \n",
        "\n",
        "code = USDRUB_TOM"
      ],
      "metadata": {
        "id": "WGPy3To5cPQc"
      }
    },
    {
      "cell_type": "markdown",
      "source": [
        "# Parameters:\n",
        "\n",
        "market, em, code – об этих параметрах, упоминал ранее, при обращении к функции их значения будут приниматься из файла.\n",
        "\n",
        "df, mf, yf, from, dt, mt, yt, to – это параметры времени.\n",
        "\n",
        "p — период котировок (тики, 1 мин., 5 мин., 10 мин., 15 мин., 30 мин., 1 час, 1 день, 1 неделя, 1 месяц)\n",
        "\n",
        "e – расширение получаемого файла; возможны варианты — .txt либо .csv\n",
        "dtf — формат даты (1 — ггггммдд, 2 — ггммдд, 3 — ддммгг, 4 — дд/мм/гг, 5 — мм/дд/гг)\n",
        "\n",
        "tmf — формат времени (1 — ччммсс, 2 — ччмм, 3 — чч: мм: сс, 4 — чч: мм)\n",
        "\n",
        "MSOR — выдавать время (0 — начала свечи, 1 — окончания свечи)\n",
        "\n",
        "mstimever — выдавать время (НЕ московское — mstimever=0; московское — mstime='on', mstimever='1')\n",
        "\n",
        "sep — параметр разделитель полей (1 — запятая (,), 2 — точка (.), 3 — точка с запятой (;), 4 — табуляция (»), 5 — пробел ( ))\n",
        "\n",
        "sep2 — параметр разделитель разрядов (1 — нет, 2 — точка (.), 3 — запятая (,), 4 — пробел ( ), 5 — кавычка ('))\n",
        "\n",
        "datf — Перечень получаемых данных (#1 — TICKER, PER, DATE, TIME, OPEN, HIGH, LOW, CLOSE, VOL; #2 — TICKER, PER, DATE, TIME, OPEN, HIGH, LOW, CLOSE; #3 — TICKER, PER, DATE, TIME, CLOSE, VOL; #4 — TICKER, PER, DATE, TIME, CLOSE; #5 — DATE, TIME, OPEN, HIGH, LOW, CLOSE, VOL; #6 — DATE, TIME, LAST, VOL, ID, OPER).\n",
        "\n",
        "at — добавлять заголовок в файл (0 — нет, 1 — да)"
      ],
      "metadata": {
        "id": "1LoszuJIeuxE"
      }
    },
    {
      "cell_type": "code",
      "source": [
        "# Quotation period (ticks, 1 min., 5 min., 10 min., 15 min., 30 min., 1 hour, 1 day, 1 week, 1 month)\n",
        "p='3';  \n",
        "\n",
        "# Start date\n",
        "yf='2022';\n",
        "month_start='02';\n",
        "day_start='02';\n",
        "\n",
        "# End date\n",
        "yt='2022';\n",
        "month_end='02';\n",
        "day_end='02';\n",
        "\n",
        "# Instrument id \n",
        "code='USD000UTSTOM';\n",
        "\n",
        "#format: .csv or .txt\n",
        "e='.csv';\n",
        "# Market code\n",
        "market='45'\n",
        "#Instrument identificator\n",
        "em='182400';\n",
        "\n",
        "dtf='4';\n",
        "tmf='3';\n",
        "MSOR='1';\n",
        "mstime='on'\n",
        "mstimever='1'\n",
        "sep='1';\n",
        "sep2='2';\n",
        "datf='1';\n",
        "at='1';\n",
        "token = '03AGdBq24ovEJd8iyoRM0KqneYCBee_4L_fk3LvgobJXZRH0DU2N98U_Q-FCZ90ToKmFgwuSQ_CyIQWt4n4uy4T6LOEICjsb2x24qFOFhs6jO6NjeCgco1CBCeF43vHINO4Mk4DGY7DVMVfwT691aQYzm3Xx-S1eG0gPT0A5LFVbeFdsCaNDl73l0anIPQDojRZy5tQNj5UXZF5iRP7ySz3cK-mR5SsEX5ZFCbfgu1B1p7wDM2YkByjAVIYQX5B2lYUxGlJemOPm8mTybyYboTSnN6fV8gk2wPUMJ9JeWjf9mldjKWpy-cVEtE57_Pj4nrTNhq9cDhDwh79yZXL6rNl5gHobsbCPdDVPkKGcL-Xfr_4M0FlhkhDl9RGX4bpoPk9sdBXnNm2jhFMtlDf8s6RTj3BlifiMXUrqLOhtnoKoWsDr2jkHT_lHWYoWSrniN8ApINCYNPtvUbUDLVQEx2xczp-t0HGN6Jhg'\n"
      ],
      "metadata": {
        "id": "NaTOfb-yeXjr"
      },
      "execution_count": 69,
      "outputs": []
    },
    {
      "cell_type": "code",
      "source": [
        "# Date transformations for https request – do not change\n",
        "year_start=yf[2:];\n",
        "year_end=yt[2:];\n",
        "mf=(int(month_start.lstrip('0')))-1;\n",
        "mt=(int(month_end.lstrip('0')))-1;\n",
        "df=(int(day_start.lstrip('0')))-1;\n",
        "dt=(int(day_end.lstrip('0')))-1;"
      ],
      "metadata": {
        "id": "zmhuqbl6-xJA"
      },
      "execution_count": 70,
      "outputs": []
    },
    {
      "cell_type": "markdown",
      "source": [
        "# Finam https-request with the parameters listed above"
      ],
      "metadata": {
        "id": "rgurVl9v_Xl0"
      }
    },
    {
      "cell_type": "code",
      "source": [
        "# Web-url for downloading data\n",
        "weblink = 'https://export.finam.ru/export9.out?market='+str(market)+'&em='+str(em)+'&token=&code='+str(code)+'&apply=0&df='+str(df)+'&mf='+str(mf)+'&yf='+str(yf)+'&from='+str(day_start)+'.'+str(month_start)+'.'+str(yf)+'&dt='+str(dt)+'&mt='+str(mt)+'&yt='+str(yt)+'&to='+str(day_end)+'.'+str(month_end)+'.'+str(yt)+'&p='+str(p)+'&f='+str(code)+'_'+str(year_start)+str(month_start)+str(day_start)+'_'+str(year_end)+str(month_end)+str(day_end)+'&e=.'+str(e)+'&cn='+str(code)+'&dtf='+str(dtf)+'&tmf='+str(tmf)+'&MSOR='+str(MSOR)+'&mstime='+str(mstime)+'&mstimever='+str(mstimever)+'&sep='+str(sep)+'&sep2='+str(sep2)+'&datf='+str(datf)+'&at='+str(at)\n",
        "\n",
        "# Describing virtual environment to pretend being a real user \n",
        "headers = {'User-Agent': 'Mozilla/5.0 (Macintosh; Intel Mac OS X 10_15_3) AppleWebKit/537.36 (KHTML, like Gecko) Chrome/80.0.3987.149 Safari/537.36'}\n",
        "\n",
        "# performing request\n",
        "page = requests.get(weblink, headers=headers)\n",
        "page_url = page.url # saving page url"
      ],
      "metadata": {
        "id": "ekDif56WgJVK"
      },
      "execution_count": 71,
      "outputs": []
    },
    {
      "cell_type": "markdown",
      "source": [
        "# Data transformation"
      ],
      "metadata": {
        "id": "cn7idU5QJvxb"
      }
    },
    {
      "cell_type": "markdown",
      "source": [
        "Turn data from a string to a DataFrame"
      ],
      "metadata": {
        "id": "iDzMKLQz_yKI"
      }
    },
    {
      "cell_type": "code",
      "source": [
        "TESTDATA = StringIO(page.text) # String to text\n",
        "\n",
        "data = pd.read_csv(TESTDATA, sep=\",\") # Text to DataFrame"
      ],
      "metadata": {
        "id": "oGsSmS6GjCAH"
      },
      "execution_count": 72,
      "outputs": []
    },
    {
      "cell_type": "markdown",
      "source": [
        "Replacing extra simbols"
      ],
      "metadata": {
        "id": "okvmuP3aAO48"
      }
    },
    {
      "cell_type": "code",
      "source": [
        "data.columns = data.columns.str.replace('<','')\n",
        "data.columns = data.columns.str.replace('>','')"
      ],
      "metadata": {
        "id": "YjADagYtjUdA"
      },
      "execution_count": 73,
      "outputs": []
    },
    {
      "cell_type": "markdown",
      "source": [
        "# Saving data into a file"
      ],
      "metadata": {
        "id": "_vHFEsjlJ18K"
      }
    },
    {
      "cell_type": "code",
      "source": [
        "data.to_csv(str(code)+str(e))"
      ],
      "metadata": {
        "id": "8z9GSsukE7YC"
      },
      "execution_count": 74,
      "outputs": []
    },
    {
      "cell_type": "code",
      "source": [
        "files.download(str(code)+str(e))"
      ],
      "metadata": {
        "colab": {
          "base_uri": "https://localhost:8080/",
          "height": 34
        },
        "id": "ivz5-_8_HXvw",
        "outputId": "fd2d32f1-0cbd-4469-efdd-925466d3210a"
      },
      "execution_count": 66,
      "outputs": [
        {
          "output_type": "display_data",
          "data": {
            "text/plain": [
              "<IPython.core.display.Javascript object>"
            ],
            "application/javascript": [
              "\n",
              "    async function download(id, filename, size) {\n",
              "      if (!google.colab.kernel.accessAllowed) {\n",
              "        return;\n",
              "      }\n",
              "      const div = document.createElement('div');\n",
              "      const label = document.createElement('label');\n",
              "      label.textContent = `Downloading \"${filename}\": `;\n",
              "      div.appendChild(label);\n",
              "      const progress = document.createElement('progress');\n",
              "      progress.max = size;\n",
              "      div.appendChild(progress);\n",
              "      document.body.appendChild(div);\n",
              "\n",
              "      const buffers = [];\n",
              "      let downloaded = 0;\n",
              "\n",
              "      const channel = await google.colab.kernel.comms.open(id);\n",
              "      // Send a message to notify the kernel that we're ready.\n",
              "      channel.send({})\n",
              "\n",
              "      for await (const message of channel.messages) {\n",
              "        // Send a message to notify the kernel that we're ready.\n",
              "        channel.send({})\n",
              "        if (message.buffers) {\n",
              "          for (const buffer of message.buffers) {\n",
              "            buffers.push(buffer);\n",
              "            downloaded += buffer.byteLength;\n",
              "            progress.value = downloaded;\n",
              "          }\n",
              "        }\n",
              "      }\n",
              "      const blob = new Blob(buffers, {type: 'application/binary'});\n",
              "      const a = document.createElement('a');\n",
              "      a.href = window.URL.createObjectURL(blob);\n",
              "      a.download = filename;\n",
              "      div.appendChild(a);\n",
              "      a.click();\n",
              "      div.remove();\n",
              "    }\n",
              "  "
            ]
          },
          "metadata": {}
        },
        {
          "output_type": "display_data",
          "data": {
            "text/plain": [
              "<IPython.core.display.Javascript object>"
            ],
            "application/javascript": [
              "download(\"download_0e8d98c1-dfdf-4a11-887d-a3e9f6d3eb9a\", \"USD000UTSTOM.csv\", 7882)"
            ]
          },
          "metadata": {}
        }
      ]
    },
    {
      "cell_type": "markdown",
      "source": [
        "# Visualising data"
      ],
      "metadata": {
        "id": "JwNhaktNJ8kJ"
      }
    },
    {
      "cell_type": "code",
      "source": [
        "data.head()"
      ],
      "metadata": {
        "colab": {
          "base_uri": "https://localhost:8080/",
          "height": 204
        },
        "id": "mc-_jnaYlIz3",
        "outputId": "0b26a63e-1b05-4618-978d-96b3b29b522e"
      },
      "execution_count": 75,
      "outputs": [
        {
          "output_type": "execute_result",
          "data": {
            "text/plain": [
              "         TICKER  PER      DATE      TIME     OPEN    HIGH     LOW    CLOSE  \\\n",
              "0  USD000UTSTOM    5  01/02/22  07:05:00  77.3200  77.380  77.270  77.2825   \n",
              "1  USD000UTSTOM    5  01/02/22  07:10:00  77.2750  77.275  77.205  77.2125   \n",
              "2  USD000UTSTOM    5  01/02/22  07:15:00  77.2125  77.250  77.160  77.1600   \n",
              "3  USD000UTSTOM    5  01/02/22  07:20:00  77.1825  77.200  77.065  77.0825   \n",
              "4  USD000UTSTOM    5  01/02/22  07:25:00  77.0900  77.100  77.045  77.0500   \n",
              "\n",
              "          VOL  \n",
              "0   3.223.000  \n",
              "1   8.854.000  \n",
              "2   6.596.000  \n",
              "3  14.951.000  \n",
              "4   6.377.000  "
            ],
            "text/html": [
              "\n",
              "  <div id=\"df-5bf360e7-b669-4c55-8cd5-5c33fa29c95a\">\n",
              "    <div class=\"colab-df-container\">\n",
              "      <div>\n",
              "<style scoped>\n",
              "    .dataframe tbody tr th:only-of-type {\n",
              "        vertical-align: middle;\n",
              "    }\n",
              "\n",
              "    .dataframe tbody tr th {\n",
              "        vertical-align: top;\n",
              "    }\n",
              "\n",
              "    .dataframe thead th {\n",
              "        text-align: right;\n",
              "    }\n",
              "</style>\n",
              "<table border=\"1\" class=\"dataframe\">\n",
              "  <thead>\n",
              "    <tr style=\"text-align: right;\">\n",
              "      <th></th>\n",
              "      <th>TICKER</th>\n",
              "      <th>PER</th>\n",
              "      <th>DATE</th>\n",
              "      <th>TIME</th>\n",
              "      <th>OPEN</th>\n",
              "      <th>HIGH</th>\n",
              "      <th>LOW</th>\n",
              "      <th>CLOSE</th>\n",
              "      <th>VOL</th>\n",
              "    </tr>\n",
              "  </thead>\n",
              "  <tbody>\n",
              "    <tr>\n",
              "      <th>0</th>\n",
              "      <td>USD000UTSTOM</td>\n",
              "      <td>5</td>\n",
              "      <td>01/02/22</td>\n",
              "      <td>07:05:00</td>\n",
              "      <td>77.3200</td>\n",
              "      <td>77.380</td>\n",
              "      <td>77.270</td>\n",
              "      <td>77.2825</td>\n",
              "      <td>3.223.000</td>\n",
              "    </tr>\n",
              "    <tr>\n",
              "      <th>1</th>\n",
              "      <td>USD000UTSTOM</td>\n",
              "      <td>5</td>\n",
              "      <td>01/02/22</td>\n",
              "      <td>07:10:00</td>\n",
              "      <td>77.2750</td>\n",
              "      <td>77.275</td>\n",
              "      <td>77.205</td>\n",
              "      <td>77.2125</td>\n",
              "      <td>8.854.000</td>\n",
              "    </tr>\n",
              "    <tr>\n",
              "      <th>2</th>\n",
              "      <td>USD000UTSTOM</td>\n",
              "      <td>5</td>\n",
              "      <td>01/02/22</td>\n",
              "      <td>07:15:00</td>\n",
              "      <td>77.2125</td>\n",
              "      <td>77.250</td>\n",
              "      <td>77.160</td>\n",
              "      <td>77.1600</td>\n",
              "      <td>6.596.000</td>\n",
              "    </tr>\n",
              "    <tr>\n",
              "      <th>3</th>\n",
              "      <td>USD000UTSTOM</td>\n",
              "      <td>5</td>\n",
              "      <td>01/02/22</td>\n",
              "      <td>07:20:00</td>\n",
              "      <td>77.1825</td>\n",
              "      <td>77.200</td>\n",
              "      <td>77.065</td>\n",
              "      <td>77.0825</td>\n",
              "      <td>14.951.000</td>\n",
              "    </tr>\n",
              "    <tr>\n",
              "      <th>4</th>\n",
              "      <td>USD000UTSTOM</td>\n",
              "      <td>5</td>\n",
              "      <td>01/02/22</td>\n",
              "      <td>07:25:00</td>\n",
              "      <td>77.0900</td>\n",
              "      <td>77.100</td>\n",
              "      <td>77.045</td>\n",
              "      <td>77.0500</td>\n",
              "      <td>6.377.000</td>\n",
              "    </tr>\n",
              "  </tbody>\n",
              "</table>\n",
              "</div>\n",
              "      <button class=\"colab-df-convert\" onclick=\"convertToInteractive('df-5bf360e7-b669-4c55-8cd5-5c33fa29c95a')\"\n",
              "              title=\"Convert this dataframe to an interactive table.\"\n",
              "              style=\"display:none;\">\n",
              "        \n",
              "  <svg xmlns=\"http://www.w3.org/2000/svg\" height=\"24px\"viewBox=\"0 0 24 24\"\n",
              "       width=\"24px\">\n",
              "    <path d=\"M0 0h24v24H0V0z\" fill=\"none\"/>\n",
              "    <path d=\"M18.56 5.44l.94 2.06.94-2.06 2.06-.94-2.06-.94-.94-2.06-.94 2.06-2.06.94zm-11 1L8.5 8.5l.94-2.06 2.06-.94-2.06-.94L8.5 2.5l-.94 2.06-2.06.94zm10 10l.94 2.06.94-2.06 2.06-.94-2.06-.94-.94-2.06-.94 2.06-2.06.94z\"/><path d=\"M17.41 7.96l-1.37-1.37c-.4-.4-.92-.59-1.43-.59-.52 0-1.04.2-1.43.59L10.3 9.45l-7.72 7.72c-.78.78-.78 2.05 0 2.83L4 21.41c.39.39.9.59 1.41.59.51 0 1.02-.2 1.41-.59l7.78-7.78 2.81-2.81c.8-.78.8-2.07 0-2.86zM5.41 20L4 18.59l7.72-7.72 1.47 1.35L5.41 20z\"/>\n",
              "  </svg>\n",
              "      </button>\n",
              "      \n",
              "  <style>\n",
              "    .colab-df-container {\n",
              "      display:flex;\n",
              "      flex-wrap:wrap;\n",
              "      gap: 12px;\n",
              "    }\n",
              "\n",
              "    .colab-df-convert {\n",
              "      background-color: #E8F0FE;\n",
              "      border: none;\n",
              "      border-radius: 50%;\n",
              "      cursor: pointer;\n",
              "      display: none;\n",
              "      fill: #1967D2;\n",
              "      height: 32px;\n",
              "      padding: 0 0 0 0;\n",
              "      width: 32px;\n",
              "    }\n",
              "\n",
              "    .colab-df-convert:hover {\n",
              "      background-color: #E2EBFA;\n",
              "      box-shadow: 0px 1px 2px rgba(60, 64, 67, 0.3), 0px 1px 3px 1px rgba(60, 64, 67, 0.15);\n",
              "      fill: #174EA6;\n",
              "    }\n",
              "\n",
              "    [theme=dark] .colab-df-convert {\n",
              "      background-color: #3B4455;\n",
              "      fill: #D2E3FC;\n",
              "    }\n",
              "\n",
              "    [theme=dark] .colab-df-convert:hover {\n",
              "      background-color: #434B5C;\n",
              "      box-shadow: 0px 1px 3px 1px rgba(0, 0, 0, 0.15);\n",
              "      filter: drop-shadow(0px 1px 2px rgba(0, 0, 0, 0.3));\n",
              "      fill: #FFFFFF;\n",
              "    }\n",
              "  </style>\n",
              "\n",
              "      <script>\n",
              "        const buttonEl =\n",
              "          document.querySelector('#df-5bf360e7-b669-4c55-8cd5-5c33fa29c95a button.colab-df-convert');\n",
              "        buttonEl.style.display =\n",
              "          google.colab.kernel.accessAllowed ? 'block' : 'none';\n",
              "\n",
              "        async function convertToInteractive(key) {\n",
              "          const element = document.querySelector('#df-5bf360e7-b669-4c55-8cd5-5c33fa29c95a');\n",
              "          const dataTable =\n",
              "            await google.colab.kernel.invokeFunction('convertToInteractive',\n",
              "                                                     [key], {});\n",
              "          if (!dataTable) return;\n",
              "\n",
              "          const docLinkHtml = 'Like what you see? Visit the ' +\n",
              "            '<a target=\"_blank\" href=https://colab.research.google.com/notebooks/data_table.ipynb>data table notebook</a>'\n",
              "            + ' to learn more about interactive tables.';\n",
              "          element.innerHTML = '';\n",
              "          dataTable['output_type'] = 'display_data';\n",
              "          await google.colab.output.renderOutput(dataTable, element);\n",
              "          const docLink = document.createElement('div');\n",
              "          docLink.innerHTML = docLinkHtml;\n",
              "          element.appendChild(docLink);\n",
              "        }\n",
              "      </script>\n",
              "    </div>\n",
              "  </div>\n",
              "  "
            ]
          },
          "metadata": {},
          "execution_count": 75
        }
      ]
    },
    {
      "cell_type": "code",
      "source": [
        "plt.figure(figsize=(15,7))\n",
        "\n",
        "plt.plot(data['TIME'],data['CLOSE'])\n",
        "\n",
        "plt.title('USDRUB_TOM')\n",
        "\n",
        "plt.xticks([])\n",
        "\n",
        "plt.xlabel('Time')\n",
        "plt.ylabel('Price')\n",
        "\n",
        "plt.grid()\n",
        "\n",
        "plt.show()"
      ],
      "metadata": {
        "colab": {
          "base_uri": "https://localhost:8080/",
          "height": 441
        },
        "id": "jAkRTWfvlapx",
        "outputId": "441cef9f-1059-4dfd-bbae-0cd41433c24f"
      },
      "execution_count": 76,
      "outputs": [
        {
          "output_type": "display_data",
          "data": {
            "text/plain": [
              "<Figure size 1080x504 with 1 Axes>"
            ],
            "image/png": "[encoded data removed]"
          },
          "metadata": {
            "needs_background": "light"
          }
        }
      ]
    },
    {
      "cell_type": "code",
      "source": [
        ""
      ],
      "metadata": {
        "id": "4BHwhiAZE0eb"
      },
      "execution_count": 68,
      "outputs": []
    }
  ]
}